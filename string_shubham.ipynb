{
 "cells": [
  {
   "cell_type": "raw",
   "id": "7212a821",
   "metadata": {},
   "source": [
    "shubham chavhan"
   ]
  },
  {
   "cell_type": "markdown",
   "id": "6c0ecc82",
   "metadata": {},
   "source": [
    "# String Methods\n",
    "\n",
    "capitalize() upper() lower()  swapcase() casefold() center() \n",
    "count() len() slice() rstrip() lstrip() find() split() replace() \n",
    "join() center() islower() isalnum() isalpha() isdigit() isspace() \n",
    "startswith() endswith() isdigit() isnumeric() "
   ]
  },
  {
   "cell_type": "raw",
   "id": "b3e71991",
   "metadata": {},
   "source": [
    " "
   ]
  },
  {
   "cell_type": "markdown",
   "id": "0ed2f56c",
   "metadata": {},
   "source": [
    "# capitalize()\n",
    "Return a capitalized version of the string."
   ]
  },
  {
   "cell_type": "code",
   "execution_count": 367,
   "id": "dabd17bb",
   "metadata": {},
   "outputs": [
    {
     "name": "stdout",
     "output_type": "stream",
     "text": [
      "shubham\n"
     ]
    }
   ],
   "source": [
    "a = \"shubham\"\n",
    "print(a)\n"
   ]
  },
  {
   "cell_type": "code",
   "execution_count": 368,
   "id": "96b36c75",
   "metadata": {},
   "outputs": [
    {
     "data": {
      "text/plain": [
       "'Shubham'"
      ]
     },
     "execution_count": 368,
     "metadata": {},
     "output_type": "execute_result"
    }
   ],
   "source": [
    "a.capitalize()"
   ]
  },
  {
   "cell_type": "code",
   "execution_count": 369,
   "id": "92ee15c5",
   "metadata": {},
   "outputs": [
    {
     "name": "stdout",
     "output_type": "stream",
     "text": [
      "Shubham\n"
     ]
    }
   ],
   "source": [
    "def captitalize(name):\n",
    "        try:\n",
    "            print(a.capitalize())\n",
    "        except Exception as e:\n",
    "            print(e)\n",
    "captitalize(a) "
   ]
  },
  {
   "cell_type": "code",
   "execution_count": 370,
   "id": "204e1a50",
   "metadata": {},
   "outputs": [
    {
     "name": "stdout",
     "output_type": "stream",
     "text": [
      "Shubham\n"
     ]
    }
   ],
   "source": [
    "try:\n",
    "    def captitalize(name):\n",
    "        \"Return a capitalized version of the string.\"\n",
    "        try:\n",
    "            print(a.capitalize())\n",
    "        except Exception as e:\n",
    "            print(e)\n",
    "    captitalize(a) \n",
    "except Exception as e:\n",
    "    print(e)"
   ]
  },
  {
   "cell_type": "raw",
   "id": "31f4fcac",
   "metadata": {},
   "source": []
  },
  {
   "cell_type": "markdown",
   "id": "649e6aad",
   "metadata": {},
   "source": [
    "# upper()\n",
    "Return a copy of the string converted to uppercase.\n"
   ]
  },
  {
   "cell_type": "code",
   "execution_count": 371,
   "id": "ddf53a06",
   "metadata": {},
   "outputs": [
    {
     "data": {
      "text/plain": [
       "'SHUBHAM'"
      ]
     },
     "execution_count": 371,
     "metadata": {},
     "output_type": "execute_result"
    }
   ],
   "source": [
    "a.upper()"
   ]
  },
  {
   "cell_type": "code",
   "execution_count": 372,
   "id": "127cf231",
   "metadata": {},
   "outputs": [
    {
     "name": "stdout",
     "output_type": "stream",
     "text": [
      "SHUBHAM\n"
     ]
    }
   ],
   "source": [
    "try:\n",
    "    print(a.upper())\n",
    "except Exception as e:\n",
    "    print(e)"
   ]
  },
  {
   "cell_type": "code",
   "execution_count": 373,
   "id": "f0a43d39",
   "metadata": {},
   "outputs": [
    {
     "name": "stdout",
     "output_type": "stream",
     "text": [
      "Shubham\n"
     ]
    }
   ],
   "source": [
    "def upper(name):\n",
    "    \"Return a copy of the string converted to uppercase.\"\n",
    "    try:\n",
    "        print(a.upper())\n",
    "    except Exception as e:\n",
    "        print(e)\n",
    "captitalize(a)   "
   ]
  },
  {
   "cell_type": "code",
   "execution_count": 374,
   "id": "8cfc9919",
   "metadata": {},
   "outputs": [
    {
     "name": "stdout",
     "output_type": "stream",
     "text": [
      "Shubham\n"
     ]
    }
   ],
   "source": [
    "try:\n",
    "    def upper(name):\n",
    "        try:\n",
    "            print(a.upper())\n",
    "        except Exception as e:\n",
    "            print(e)\n",
    "    captitalize(a) \n",
    "except Exception as e:\n",
    "    print(e)"
   ]
  },
  {
   "cell_type": "raw",
   "id": "67eafb32",
   "metadata": {},
   "source": []
  },
  {
   "cell_type": "markdown",
   "id": "ee2b53c0",
   "metadata": {},
   "source": [
    "# lower()\n",
    "\n",
    "Return a copy of the string converted to lowercase."
   ]
  },
  {
   "cell_type": "code",
   "execution_count": 375,
   "id": "4a4145ae",
   "metadata": {},
   "outputs": [
    {
     "data": {
      "text/plain": [
       "'shubham'"
      ]
     },
     "execution_count": 375,
     "metadata": {},
     "output_type": "execute_result"
    }
   ],
   "source": [
    "a.lower()"
   ]
  },
  {
   "cell_type": "code",
   "execution_count": 376,
   "id": "f3651eaa",
   "metadata": {},
   "outputs": [
    {
     "name": "stdout",
     "output_type": "stream",
     "text": [
      "Shubham\n"
     ]
    }
   ],
   "source": [
    "try:\n",
    "    def lower(name):\n",
    "        \"Return a copy of the string converted to lowercase.\"\n",
    "        try:\n",
    "            print(a.lower())\n",
    "        except Exception as e:\n",
    "            print(e)\n",
    "    captitalize(a) \n",
    "except Exception as e:\n",
    "    print(e)"
   ]
  },
  {
   "cell_type": "code",
   "execution_count": null,
   "id": "dcd678eb",
   "metadata": {},
   "outputs": [],
   "source": []
  },
  {
   "cell_type": "markdown",
   "id": "3de651b9",
   "metadata": {},
   "source": [
    "# swapcase()\n",
    "\n",
    "Convert uppercase characters to lowercase and lowercase characters to uppercase."
   ]
  },
  {
   "cell_type": "code",
   "execution_count": 377,
   "id": "351f19dc",
   "metadata": {},
   "outputs": [],
   "source": [
    "str = 'LEarniNg pyRTthon sdgDGaIs eaSTasy'"
   ]
  },
  {
   "cell_type": "code",
   "execution_count": 378,
   "id": "f3b0a369",
   "metadata": {},
   "outputs": [
    {
     "data": {
      "text/plain": [
       "'leARNInG PYrtTHON SDGdgAiS EAstASY'"
      ]
     },
     "execution_count": 378,
     "metadata": {},
     "output_type": "execute_result"
    }
   ],
   "source": [
    "str.swapcase()"
   ]
  },
  {
   "cell_type": "code",
   "execution_count": 379,
   "id": "bcf332e3",
   "metadata": {},
   "outputs": [
    {
     "name": "stdout",
     "output_type": "stream",
     "text": [
      "leARNInG PYrtTHON SDGdgAiS EAstASY\n"
     ]
    }
   ],
   "source": [
    "def swapcase(name):\n",
    "        try:\n",
    "            print(str.swapcase())\n",
    "        except Exception as e:\n",
    "            print(e)\n",
    "swapcase(str)"
   ]
  },
  {
   "cell_type": "code",
   "execution_count": 380,
   "id": "99496d34",
   "metadata": {},
   "outputs": [
    {
     "name": "stdout",
     "output_type": "stream",
     "text": [
      "leARNInG PYrtTHON SDGdgAiS EAstASY\n"
     ]
    }
   ],
   "source": [
    "try:\n",
    "    def swapcase(name):\n",
    "        \"Convert uppercase characters to lowercase and lowercase characters to uppercase\"\n",
    "        try:\n",
    "            print(str.swapcase())\n",
    "        except Exception as e:\n",
    "            print(e)\n",
    "    swapcase(str) \n",
    "except Exception as e:\n",
    "    print(e)"
   ]
  },
  {
   "cell_type": "code",
   "execution_count": null,
   "id": "5b40bf0f",
   "metadata": {},
   "outputs": [],
   "source": []
  },
  {
   "cell_type": "markdown",
   "id": "771bf323",
   "metadata": {},
   "source": [
    "# casefold()\n",
    "\n",
    "Return a version of the string suitable for caseless comparisons."
   ]
  },
  {
   "cell_type": "code",
   "execution_count": 381,
   "id": "68f92ec3",
   "metadata": {},
   "outputs": [],
   "source": [
    "b=\"SHUBHAM\""
   ]
  },
  {
   "cell_type": "code",
   "execution_count": 382,
   "id": "207c59c4",
   "metadata": {},
   "outputs": [
    {
     "data": {
      "text/plain": [
       "'shubham'"
      ]
     },
     "execution_count": 382,
     "metadata": {},
     "output_type": "execute_result"
    }
   ],
   "source": [
    "b.casefold()\n"
   ]
  },
  {
   "cell_type": "code",
   "execution_count": 383,
   "id": "e8c0b40f",
   "metadata": {},
   "outputs": [
    {
     "name": "stdout",
     "output_type": "stream",
     "text": [
      "shubham\n"
     ]
    }
   ],
   "source": [
    "try:\n",
    "    def lower(name):\n",
    "        \"Return a version of the string suitable for caseless comparisons.\"\n",
    "        try:\n",
    "            print(b.casefold())\n",
    "        except Exception as e:\n",
    "            print(e)\n",
    "    lower(b) \n",
    "except Exception as e:\n",
    "    print(e)"
   ]
  },
  {
   "cell_type": "raw",
   "id": "fb4c68ae",
   "metadata": {},
   "source": []
  },
  {
   "cell_type": "markdown",
   "id": "c64b65e0",
   "metadata": {},
   "source": [
    "# center()\n",
    "\n",
    "Return a centered string of length width."
   ]
  },
  {
   "cell_type": "code",
   "execution_count": 384,
   "id": "ba672904",
   "metadata": {},
   "outputs": [
    {
     "data": {
      "text/plain": [
       "'       shubham        '"
      ]
     },
     "execution_count": 384,
     "metadata": {},
     "output_type": "execute_result"
    }
   ],
   "source": [
    "a.center(22)"
   ]
  },
  {
   "cell_type": "code",
   "execution_count": 385,
   "id": "b3bfb81d",
   "metadata": {},
   "outputs": [
    {
     "name": "stdout",
     "output_type": "stream",
     "text": [
      "       shubham        \n"
     ]
    }
   ],
   "source": [
    "def center(name):\n",
    "    try:\n",
    "        print(a.center(22))\n",
    "    except Exception as e:\n",
    "        print(e)\n",
    "center(a)  "
   ]
  },
  {
   "cell_type": "code",
   "execution_count": 386,
   "id": "ec3c925a",
   "metadata": {},
   "outputs": [
    {
     "name": "stdout",
     "output_type": "stream",
     "text": [
      "       shubham        \n"
     ]
    }
   ],
   "source": [
    "try:\n",
    "    def center(name):\n",
    "        \"Return a centered string of length width\"\n",
    "        try:\n",
    "            print(a.center(22))\n",
    "        except Exception as e:\n",
    "            print(e)\n",
    "    center(a)  \n",
    "except Exception as e:\n",
    "    print(e)"
   ]
  },
  {
   "cell_type": "raw",
   "id": "689c3577",
   "metadata": {},
   "source": []
  },
  {
   "cell_type": "markdown",
   "id": "fc63a87c",
   "metadata": {},
   "source": [
    "# count()\n",
    "\n",
    "Returns the number of times a specified value occurs in a string"
   ]
  },
  {
   "cell_type": "code",
   "execution_count": 387,
   "id": "9ebc385e",
   "metadata": {},
   "outputs": [
    {
     "data": {
      "text/plain": [
       "1"
      ]
     },
     "execution_count": 387,
     "metadata": {},
     "output_type": "execute_result"
    }
   ],
   "source": [
    "a.count(\"s\")"
   ]
  },
  {
   "cell_type": "code",
   "execution_count": 388,
   "id": "4ee0fd81",
   "metadata": {},
   "outputs": [
    {
     "name": "stdout",
     "output_type": "stream",
     "text": [
      "1\n"
     ]
    }
   ],
   "source": [
    "def count(name):\n",
    "    try:\n",
    "        print(a.count(\"s\"))\n",
    "    except Exception as e:\n",
    "        print(e)\n",
    "\n",
    "count(a)   \n",
    "    "
   ]
  },
  {
   "cell_type": "code",
   "execution_count": 389,
   "id": "96ff47f1",
   "metadata": {},
   "outputs": [
    {
     "name": "stdout",
     "output_type": "stream",
     "text": [
      "1\n"
     ]
    }
   ],
   "source": [
    "try:\n",
    "    def count(name):\n",
    "        \"Returns the number of times a specified value occurs in a string\"\n",
    "        try:\n",
    "            print(a.count(\"s\"))\n",
    "        except Exception as e:\n",
    "            print(e)\n",
    "\n",
    "    count(a)   \n",
    "except Exception as e:\n",
    "    print(e)    \n",
    "    "
   ]
  },
  {
   "cell_type": "code",
   "execution_count": null,
   "id": "d98fe0ea",
   "metadata": {},
   "outputs": [],
   "source": []
  },
  {
   "cell_type": "code",
   "execution_count": 390,
   "id": "65f770ee",
   "metadata": {},
   "outputs": [
    {
     "name": "stdout",
     "output_type": "stream",
     "text": [
      "shubham\n"
     ]
    }
   ],
   "source": [
    "a = \"shubham\"\n",
    "print(a)"
   ]
  },
  {
   "cell_type": "code",
   "execution_count": 391,
   "id": "5c1f53ed",
   "metadata": {},
   "outputs": [
    {
     "name": "stdout",
     "output_type": "stream",
     "text": [
      "shubham\n"
     ]
    }
   ],
   "source": [
    "try:\n",
    "    print(a)\n",
    "except Exception as e:\n",
    "    print(e)\n",
    "    "
   ]
  },
  {
   "cell_type": "code",
   "execution_count": 392,
   "id": "1774008a",
   "metadata": {},
   "outputs": [
    {
     "name": "stdout",
     "output_type": "stream",
     "text": [
      "shubham\n"
     ]
    }
   ],
   "source": [
    "try:\n",
    "    def display(name):\n",
    "        try:\n",
    "            print(a)\n",
    "        except Exception as e:\n",
    "            print(e)\n",
    "    display(a)\n",
    "except Exception as e:\n",
    "    print(e)\n",
    "    "
   ]
  },
  {
   "cell_type": "markdown",
   "id": "d8b07422",
   "metadata": {},
   "source": [
    "# len()"
   ]
  },
  {
   "cell_type": "markdown",
   "id": "6a488ca4",
   "metadata": {},
   "source": [
    "The function will return Length of variable"
   ]
  },
  {
   "cell_type": "code",
   "execution_count": 393,
   "id": "1d8daea3",
   "metadata": {},
   "outputs": [
    {
     "name": "stdout",
     "output_type": "stream",
     "text": [
      "<class 'str'>\n"
     ]
    }
   ],
   "source": [
    "s=\"shubham chavhan\"\n",
    "print(type(s))\n"
   ]
  },
  {
   "cell_type": "code",
   "execution_count": 394,
   "id": "13f5c8a6",
   "metadata": {},
   "outputs": [
    {
     "data": {
      "text/plain": [
       "15"
      ]
     },
     "execution_count": 394,
     "metadata": {},
     "output_type": "execute_result"
    }
   ],
   "source": [
    "len(s)"
   ]
  },
  {
   "cell_type": "code",
   "execution_count": 395,
   "id": "e79df97c",
   "metadata": {},
   "outputs": [
    {
     "name": "stdout",
     "output_type": "stream",
     "text": [
      "shubham chavhan\n"
     ]
    }
   ],
   "source": [
    "try:\n",
    "    print(s)\n",
    "except Exception as e:\n",
    "    print(e)\n",
    "    \n"
   ]
  },
  {
   "cell_type": "code",
   "execution_count": 396,
   "id": "0734ab26",
   "metadata": {},
   "outputs": [
    {
     "name": "stdout",
     "output_type": "stream",
     "text": [
      "shubham chavhan\n"
     ]
    }
   ],
   "source": [
    "def Length_of_variable(name):\n",
    "    \"The function will return Length of variable\"\n",
    "    try:\n",
    "        print(s)\n",
    "    except Exception as e:\n",
    "        print(e)\n",
    "\n",
    "Length_of_variable(s) \n",
    "\n",
    "    "
   ]
  },
  {
   "cell_type": "code",
   "execution_count": 397,
   "id": "aff9d93c",
   "metadata": {},
   "outputs": [
    {
     "name": "stdout",
     "output_type": "stream",
     "text": [
      "name 'd' is not defined\n"
     ]
    }
   ],
   "source": [
    "try:\n",
    "    def Length_of_variable(name):\n",
    "        try:\n",
    "            print(s)\n",
    "        except Exception as e:\n",
    "            print(e)\n",
    "\n",
    "    Length_of_variable(d) \n",
    "except Exception as e:\n",
    "        print(e)\n",
    "\n",
    "    "
   ]
  },
  {
   "cell_type": "code",
   "execution_count": 398,
   "id": "a9f47381",
   "metadata": {},
   "outputs": [
    {
     "data": {
      "text/plain": [
       "'shubham chavhan'"
      ]
     },
     "execution_count": 398,
     "metadata": {},
     "output_type": "execute_result"
    }
   ],
   "source": [
    "s"
   ]
  },
  {
   "cell_type": "markdown",
   "id": "ee3784a0",
   "metadata": {},
   "source": [
    "# slice()"
   ]
  },
  {
   "cell_type": "markdown",
   "id": "53841e3a",
   "metadata": {},
   "source": [
    "slicing   s[begin:end:step]"
   ]
  },
  {
   "cell_type": "code",
   "execution_count": 399,
   "id": "0965acf1",
   "metadata": {},
   "outputs": [
    {
     "data": {
      "text/plain": [
       "'shubham chavha'"
      ]
     },
     "execution_count": 399,
     "metadata": {},
     "output_type": "execute_result"
    }
   ],
   "source": [
    "s[0:14]"
   ]
  },
  {
   "cell_type": "code",
   "execution_count": 400,
   "id": "770c9856",
   "metadata": {},
   "outputs": [
    {
     "name": "stdout",
     "output_type": "stream",
     "text": [
      "shubham chavha\n"
     ]
    }
   ],
   "source": [
    "try:\n",
    "    print(s[0:14])\n",
    "except Exception as e:\n",
    "    print(e)"
   ]
  },
  {
   "cell_type": "code",
   "execution_count": 401,
   "id": "a017f4bf",
   "metadata": {},
   "outputs": [
    {
     "name": "stdout",
     "output_type": "stream",
     "text": [
      "shubham chavha\n"
     ]
    }
   ],
   "source": [
    "def slicing(name):\n",
    "    try:\n",
    "        print(s[0:14])\n",
    "    except Exception as e:\n",
    "        print(e)\n",
    "slicing(s)"
   ]
  },
  {
   "cell_type": "code",
   "execution_count": 402,
   "id": "7da2de04",
   "metadata": {},
   "outputs": [
    {
     "name": "stdout",
     "output_type": "stream",
     "text": [
      "shubham chavha\n"
     ]
    }
   ],
   "source": [
    "try:\n",
    "    def slicing(name):\n",
    "        try:\n",
    "            print(s[0:14])\n",
    "        except Exception as e:\n",
    "            print(e)\n",
    "    slicing(s)\n",
    "except Exception as e:\n",
    "    print(e)"
   ]
  },
  {
   "cell_type": "markdown",
   "id": "aafc67c5",
   "metadata": {},
   "source": [
    "# lstrip()\n",
    "Return a copy of the string with leading whitespace removed"
   ]
  },
  {
   "cell_type": "code",
   "execution_count": 403,
   "id": "5c7a9f78",
   "metadata": {},
   "outputs": [
    {
     "data": {
      "text/plain": [
       "'shubham chavhan'"
      ]
     },
     "execution_count": 403,
     "metadata": {},
     "output_type": "execute_result"
    }
   ],
   "source": [
    "s.lstrip()"
   ]
  },
  {
   "cell_type": "code",
   "execution_count": 404,
   "id": "c11c7d60",
   "metadata": {},
   "outputs": [
    {
     "data": {
      "text/plain": [
       "'shubham chavhan'"
      ]
     },
     "execution_count": 404,
     "metadata": {},
     "output_type": "execute_result"
    }
   ],
   "source": [
    "s"
   ]
  },
  {
   "cell_type": "code",
   "execution_count": 405,
   "id": "d0841cae",
   "metadata": {},
   "outputs": [
    {
     "data": {
      "text/plain": [
       "'shubham chavhan'"
      ]
     },
     "execution_count": 405,
     "metadata": {},
     "output_type": "execute_result"
    }
   ],
   "source": [
    "a='shubham chavhan   '\n",
    "s.lstrip()"
   ]
  },
  {
   "cell_type": "code",
   "execution_count": 406,
   "id": "a6337b42",
   "metadata": {},
   "outputs": [
    {
     "name": "stdout",
     "output_type": "stream",
     "text": [
      "shubham chavhan\n"
     ]
    }
   ],
   "source": [
    "try:\n",
    "    print(s.lstrip())\n",
    "except Exception as e:\n",
    "    print(e)"
   ]
  },
  {
   "cell_type": "code",
   "execution_count": 407,
   "id": "6df91980",
   "metadata": {},
   "outputs": [
    {
     "name": "stdout",
     "output_type": "stream",
     "text": [
      "shubham chavhan\n"
     ]
    }
   ],
   "source": [
    "def Left_Space_Remove(name):\n",
    "    try:\n",
    "        print(s.lstrip())\n",
    "    except Exception as e:\n",
    "        print(e)\n",
    "\n",
    "Left_Space_Remove(a)    "
   ]
  },
  {
   "cell_type": "code",
   "execution_count": 408,
   "id": "6c82c0be",
   "metadata": {},
   "outputs": [
    {
     "name": "stdout",
     "output_type": "stream",
     "text": [
      "shubham chavhan\n"
     ]
    }
   ],
   "source": [
    "try:\n",
    "    def Left_Space_Remove(name):\n",
    "        try:\n",
    "            print(s.lstrip())\n",
    "        except Exception as e:\n",
    "            print(e)\n",
    "\n",
    "    Left_Space_Remove(b)\n",
    "except Exception as e:\n",
    "        print(e)\n",
    "\n"
   ]
  },
  {
   "cell_type": "code",
   "execution_count": null,
   "id": "5771e294",
   "metadata": {},
   "outputs": [],
   "source": []
  },
  {
   "cell_type": "markdown",
   "id": "4a10836f",
   "metadata": {},
   "source": [
    "# rstrip()\n",
    "Return a copy of the string with trailing whitespace removed."
   ]
  },
  {
   "cell_type": "code",
   "execution_count": 409,
   "id": "b91161e7",
   "metadata": {},
   "outputs": [
    {
     "data": {
      "text/plain": [
       "'shubham chavhan'"
      ]
     },
     "execution_count": 409,
     "metadata": {},
     "output_type": "execute_result"
    }
   ],
   "source": [
    "s.rstrip()"
   ]
  },
  {
   "cell_type": "code",
   "execution_count": 410,
   "id": "2f6df89e",
   "metadata": {},
   "outputs": [
    {
     "name": "stdout",
     "output_type": "stream",
     "text": [
      "shubham chavhan\n"
     ]
    }
   ],
   "source": [
    "try:\n",
    "    def Left_Space_Remove(name):\n",
    "        try:\n",
    "            print(s.rstrip())\n",
    "        except Exception as e:\n",
    "            print(e)\n",
    "\n",
    "    Left_Space_Remove(s)\n",
    "except Exception as e:\n",
    "        print(e)\n"
   ]
  },
  {
   "cell_type": "raw",
   "id": "f9cb48f2",
   "metadata": {},
   "source": []
  },
  {
   "cell_type": "markdown",
   "id": "bdf6d68c",
   "metadata": {},
   "source": [
    "# find()\n",
    "\n",
    "Return the lowest index object where substring sub is found,\n"
   ]
  },
  {
   "cell_type": "code",
   "execution_count": 411,
   "id": "ac21af5c",
   "metadata": {},
   "outputs": [
    {
     "name": "stdout",
     "output_type": "stream",
     "text": [
      "learning data sciencelearning data sciencelearning data science\n"
     ]
    }
   ],
   "source": [
    "A = \"learning data sciencelearning data sciencelearning data science\"\n",
    "print(A)"
   ]
  },
  {
   "cell_type": "code",
   "execution_count": 412,
   "id": "95f2b2e7",
   "metadata": {},
   "outputs": [
    {
     "data": {
      "text/plain": [
       "5"
      ]
     },
     "execution_count": 412,
     "metadata": {},
     "output_type": "execute_result"
    }
   ],
   "source": [
    "A.find(\"i\")"
   ]
  },
  {
   "cell_type": "code",
   "execution_count": 413,
   "id": "fb933145",
   "metadata": {},
   "outputs": [
    {
     "name": "stdout",
     "output_type": "stream",
     "text": [
      "5\n"
     ]
    }
   ],
   "source": [
    "try:\n",
    "    print(A.find(\"i\"))\n",
    "except Exception as e:\n",
    "        print(e)\n",
    "\n",
    "        \n",
    "\n",
    "    "
   ]
  },
  {
   "cell_type": "code",
   "execution_count": 414,
   "id": "ea9eabf8",
   "metadata": {},
   "outputs": [
    {
     "name": "stdout",
     "output_type": "stream",
     "text": [
      "5\n"
     ]
    }
   ],
   "source": [
    "def find_variable(name):\n",
    "    try:\n",
    "        print(A.find(\"i\"))\n",
    "    except Exception as e:\n",
    "        print(e)\n",
    "\n",
    "find_variable(A)       \n",
    "\n",
    "    \n",
    "    \n",
    "    "
   ]
  },
  {
   "cell_type": "code",
   "execution_count": 415,
   "id": "65577073",
   "metadata": {},
   "outputs": [
    {
     "name": "stdout",
     "output_type": "stream",
     "text": [
      "5\n"
     ]
    }
   ],
   "source": [
    "try:\n",
    "    def find_variable(name):\n",
    "        try:\n",
    "            print(A.find(\"i\"))\n",
    "        except Exception as e:\n",
    "            print(e)\n",
    "\n",
    "    find_variable(A)       \n",
    "except Exception as e:\n",
    "            print(e)\n",
    "    "
   ]
  },
  {
   "cell_type": "raw",
   "id": "1e4f3659",
   "metadata": {},
   "source": []
  },
  {
   "cell_type": "markdown",
   "id": "bcdfbfa0",
   "metadata": {},
   "source": [
    "# split()\n",
    "\n",
    "Return a list of the words in the string, using sep as the delimiter string.\n"
   ]
  },
  {
   "cell_type": "code",
   "execution_count": 416,
   "id": "cca245e1",
   "metadata": {},
   "outputs": [],
   "source": [
    "v = \"xshubhuxshubhuxshubhuxshubhuxshubhu\""
   ]
  },
  {
   "cell_type": "code",
   "execution_count": 417,
   "id": "bddf120b",
   "metadata": {},
   "outputs": [
    {
     "data": {
      "text/plain": [
       "['', 'shubhu', 'shubhu', 'shubhu', 'shubhu', 'shubhu']"
      ]
     },
     "execution_count": 417,
     "metadata": {},
     "output_type": "execute_result"
    }
   ],
   "source": [
    "v.split('x')"
   ]
  },
  {
   "cell_type": "code",
   "execution_count": 418,
   "id": "ae3b4a7a",
   "metadata": {},
   "outputs": [
    {
     "name": "stdout",
     "output_type": "stream",
     "text": [
      "['', 'shubhu', 'shubhu', 'shubhu', 'shubhu', 'shubhu']\n"
     ]
    }
   ],
   "source": [
    "try:\n",
    "    print(v.split('x'))\n",
    "except Exception as e:\n",
    "    print(e)"
   ]
  },
  {
   "cell_type": "code",
   "execution_count": 419,
   "id": "37a3ecd3",
   "metadata": {},
   "outputs": [
    {
     "name": "stdout",
     "output_type": "stream",
     "text": [
      "['', 'shubhu', 'shubhu', 'shubhu', 'shubhu', 'shubhu']\n"
     ]
    }
   ],
   "source": [
    "def split_variable(name):\n",
    "        try:\n",
    "            print(v.split('x'))\n",
    "        except Exception as e:\n",
    "            print(e)\n",
    "\n",
    "split_variable(v)"
   ]
  },
  {
   "cell_type": "code",
   "execution_count": 420,
   "id": "f7117eb5",
   "metadata": {},
   "outputs": [
    {
     "name": "stdout",
     "output_type": "stream",
     "text": [
      "['', 'shubhu', 'shubhu', 'shubhu', 'shubhu', 'shubhu']\n"
     ]
    }
   ],
   "source": [
    "try:\n",
    "    def split_variable(name):\n",
    "        try:\n",
    "            print(v.split('x'))\n",
    "        except Exception as e:\n",
    "            print(e)\n",
    "\n",
    "    split_variable(v)       \n",
    "except Exception as e:\n",
    "    print(e)"
   ]
  },
  {
   "cell_type": "markdown",
   "id": "e33ef857",
   "metadata": {},
   "source": []
  },
  {
   "cell_type": "markdown",
   "id": "c402f00a",
   "metadata": {},
   "source": [
    "# replace()\n",
    "\n",
    "Return a copy with all occurrences of substring old replaced by new.\n"
   ]
  },
  {
   "cell_type": "code",
   "execution_count": 421,
   "id": "2d06f58f",
   "metadata": {},
   "outputs": [],
   "source": [
    "s = \"python, c, c+++ , html, Python, python\"\n",
    "\n",
    "a = 'python'"
   ]
  },
  {
   "cell_type": "code",
   "execution_count": 422,
   "id": "3c755777",
   "metadata": {},
   "outputs": [
    {
     "data": {
      "text/plain": [
       "'java, c, c+++ , html, Python, java'"
      ]
     },
     "execution_count": 422,
     "metadata": {},
     "output_type": "execute_result"
    }
   ],
   "source": [
    "s.replace(a, \"java\")"
   ]
  },
  {
   "cell_type": "code",
   "execution_count": 423,
   "id": "36b85d52",
   "metadata": {},
   "outputs": [
    {
     "name": "stdout",
     "output_type": "stream",
     "text": [
      "java, c, c+++ , html, Python, java\n"
     ]
    }
   ],
   "source": [
    "def replace_variable(name):\n",
    "        try:\n",
    "            print(s.replace(a, \"java\"))\n",
    "        except Exception as e:\n",
    "            print(e)\n",
    "\n",
    "replace_variable(s)"
   ]
  },
  {
   "cell_type": "code",
   "execution_count": 424,
   "id": "6ac11a79",
   "metadata": {},
   "outputs": [
    {
     "name": "stdout",
     "output_type": "stream",
     "text": [
      "java, c, c+++ , html, Python, java\n"
     ]
    }
   ],
   "source": [
    "try:\n",
    "    def replace_variable(name):\n",
    "        try:\n",
    "            print(s.replace(a, \"java\"))\n",
    "        except Exception as e:\n",
    "            print(e)\n",
    "\n",
    "    replace_variable(s)       \n",
    "except Exception as e:\n",
    "    print(e)"
   ]
  },
  {
   "cell_type": "raw",
   "id": "3b2a8e7b",
   "metadata": {},
   "source": []
  },
  {
   "cell_type": "markdown",
   "id": "6eee3154",
   "metadata": {},
   "source": [
    "# join()\n",
    "\n",
    "Joins the elements of an iterable to the end of the string"
   ]
  },
  {
   "cell_type": "code",
   "execution_count": 425,
   "id": "ff97ea15",
   "metadata": {},
   "outputs": [
    {
     "data": {
      "text/plain": [
       "'p-y-t-h-o-n'"
      ]
     },
     "execution_count": 425,
     "metadata": {},
     "output_type": "execute_result"
    }
   ],
   "source": [
    "'-'.join(a)"
   ]
  },
  {
   "cell_type": "code",
   "execution_count": 426,
   "id": "3533a221",
   "metadata": {},
   "outputs": [
    {
     "name": "stdout",
     "output_type": "stream",
     "text": [
      "p-y-t-h-o-n\n"
     ]
    }
   ],
   "source": [
    "def join(name):\n",
    "        try:\n",
    "            print('-'.join(a))\n",
    "        except Exception as e:\n",
    "            print(e)\n",
    "\n",
    "join(a) "
   ]
  },
  {
   "cell_type": "code",
   "execution_count": 427,
   "id": "714858c3",
   "metadata": {},
   "outputs": [
    {
     "name": "stdout",
     "output_type": "stream",
     "text": [
      "p-y-t-h-o-n\n"
     ]
    }
   ],
   "source": [
    "try:\n",
    "    def join(name):\n",
    "        \"Joins the elements of an iterable to the end of the string\"\n",
    "        try:\n",
    "            print('-'.join(a))\n",
    "        except Exception as e:\n",
    "            print(e)\n",
    "\n",
    "    join(a)       \n",
    "except Exception as e:\n",
    "    print(e)"
   ]
  },
  {
   "cell_type": "raw",
   "id": "24024522",
   "metadata": {},
   "source": []
  },
  {
   "cell_type": "markdown",
   "id": "852f547a",
   "metadata": {},
   "source": [
    "# center()\n",
    "\n",
    "Return a centered string of length width.\n"
   ]
  },
  {
   "cell_type": "code",
   "execution_count": 428,
   "id": "da89fbd7",
   "metadata": {},
   "outputs": [],
   "source": [
    "s = \"shubham\""
   ]
  },
  {
   "cell_type": "code",
   "execution_count": 429,
   "id": "e55f43ea",
   "metadata": {},
   "outputs": [
    {
     "data": {
      "text/plain": [
       "'😀😀😀😀😀😀😀😀😀shubham😀😀😀😀😀😀😀😀😀'"
      ]
     },
     "execution_count": 429,
     "metadata": {},
     "output_type": "execute_result"
    }
   ],
   "source": [
    "s.center(25, \"\\U0001f600\")"
   ]
  },
  {
   "cell_type": "code",
   "execution_count": 430,
   "id": "8baa6c1e",
   "metadata": {},
   "outputs": [
    {
     "name": "stdout",
     "output_type": "stream",
     "text": [
      "😀😀😀😀😀😀😀😀😀shubham😀😀😀😀😀😀😀😀😀\n"
     ]
    }
   ],
   "source": [
    "def center(name):\n",
    "        try:\n",
    "            print(s.center(25, \"\\U0001f600\"))\n",
    "        except Exception as e:\n",
    "            print(e)\n",
    "\n",
    "center(s) "
   ]
  },
  {
   "cell_type": "code",
   "execution_count": 431,
   "id": "61dad8a4",
   "metadata": {},
   "outputs": [
    {
     "name": "stdout",
     "output_type": "stream",
     "text": [
      "😀😀😀😀😀😀😀😀😀shubham😀😀😀😀😀😀😀😀😀\n"
     ]
    }
   ],
   "source": [
    "try:\n",
    "    def center(name):\n",
    "        try:\n",
    "            print(s.center(25, \"\\U0001f600\"))\n",
    "        except Exception as e:\n",
    "            print(e)\n",
    "\n",
    "    center(s) \n",
    "except Exception as e:\n",
    "        print(e)"
   ]
  },
  {
   "cell_type": "code",
   "execution_count": null,
   "id": "276f57a3",
   "metadata": {},
   "outputs": [],
   "source": []
  },
  {
   "cell_type": "markdown",
   "id": "1190bb51",
   "metadata": {},
   "source": [
    "# islower()\n",
    "\n",
    "Return True if the string is a lowercase string, False otherwise"
   ]
  },
  {
   "cell_type": "code",
   "execution_count": 432,
   "id": "3eb8836b",
   "metadata": {},
   "outputs": [],
   "source": [
    "s = \"shubhu\""
   ]
  },
  {
   "cell_type": "code",
   "execution_count": 433,
   "id": "7a01e6e5",
   "metadata": {},
   "outputs": [
    {
     "data": {
      "text/plain": [
       "True"
      ]
     },
     "execution_count": 433,
     "metadata": {},
     "output_type": "execute_result"
    }
   ],
   "source": [
    "s.islower()"
   ]
  },
  {
   "cell_type": "code",
   "execution_count": 434,
   "id": "2465f30d",
   "metadata": {},
   "outputs": [
    {
     "name": "stdout",
     "output_type": "stream",
     "text": [
      "True\n"
     ]
    }
   ],
   "source": [
    "def islower(name):\n",
    "        try:\n",
    "            print(s.islower())\n",
    "        except Exception as e:\n",
    "            print(e)\n",
    "islower(s)"
   ]
  },
  {
   "cell_type": "code",
   "execution_count": 435,
   "id": "7cfd9e9e",
   "metadata": {},
   "outputs": [
    {
     "name": "stdout",
     "output_type": "stream",
     "text": [
      "True\n"
     ]
    }
   ],
   "source": [
    "try:\n",
    "    def islower(name):\n",
    "        try:\n",
    "            print(s.islower())\n",
    "        except Exception as e:\n",
    "            print(e)\n",
    "    islower(s)\n",
    "except Exception as e:\n",
    "        print(e)"
   ]
  },
  {
   "cell_type": "code",
   "execution_count": null,
   "id": "86475ea8",
   "metadata": {},
   "outputs": [],
   "source": []
  },
  {
   "cell_type": "markdown",
   "id": "7e374bb3",
   "metadata": {},
   "source": [
    "# isalnum()\n",
    "\n",
    "Return True if the string is a lowercase string, False otherwise"
   ]
  },
  {
   "cell_type": "code",
   "execution_count": 436,
   "id": "ebcb0f1f",
   "metadata": {},
   "outputs": [
    {
     "data": {
      "text/plain": [
       "True"
      ]
     },
     "execution_count": 436,
     "metadata": {},
     "output_type": "execute_result"
    }
   ],
   "source": [
    "s.isalnum()"
   ]
  },
  {
   "cell_type": "code",
   "execution_count": 437,
   "id": "254a933b",
   "metadata": {},
   "outputs": [
    {
     "name": "stdout",
     "output_type": "stream",
     "text": [
      "True\n"
     ]
    }
   ],
   "source": [
    "def isalnum(name):\n",
    "        try:\n",
    "            print(s.isalnum())\n",
    "        except Exception as e:\n",
    "            print(e)\n",
    "isalnum(s)"
   ]
  },
  {
   "cell_type": "code",
   "execution_count": 438,
   "id": "7a80a12f",
   "metadata": {},
   "outputs": [
    {
     "name": "stdout",
     "output_type": "stream",
     "text": [
      "name 'isanum' is not defined\n"
     ]
    }
   ],
   "source": [
    "try:\n",
    "    def isalnum(name):\n",
    "        try:\n",
    "            print(s.isalnum())\n",
    "        except Exception as e:\n",
    "            print(e)\n",
    "    isanum(s)\n",
    "except Exception as e:\n",
    "        print(e)"
   ]
  },
  {
   "cell_type": "markdown",
   "id": "f17eb801",
   "metadata": {},
   "source": [
    "# isalpha()\n",
    "\n",
    "Return True if the string is an alphabetic string, False otherwise"
   ]
  },
  {
   "cell_type": "code",
   "execution_count": 439,
   "id": "0436e1b5",
   "metadata": {},
   "outputs": [
    {
     "data": {
      "text/plain": [
       "True"
      ]
     },
     "execution_count": 439,
     "metadata": {},
     "output_type": "execute_result"
    }
   ],
   "source": [
    "s.isalpha()"
   ]
  },
  {
   "cell_type": "code",
   "execution_count": 440,
   "id": "7a9b898f",
   "metadata": {},
   "outputs": [
    {
     "name": "stdout",
     "output_type": "stream",
     "text": [
      "True\n"
     ]
    }
   ],
   "source": [
    "def isalpha(name):\n",
    "        try:\n",
    "            print(s.isalpha())\n",
    "        except Exception as e:\n",
    "            print(e)\n",
    "isalpha(s)"
   ]
  },
  {
   "cell_type": "code",
   "execution_count": 441,
   "id": "e2825e86",
   "metadata": {},
   "outputs": [
    {
     "name": "stdout",
     "output_type": "stream",
     "text": [
      "True\n"
     ]
    }
   ],
   "source": [
    "try:\n",
    "    def isalpha(name):\n",
    "        try:\n",
    "            print(s.isalpha())\n",
    "        except Exception as e:\n",
    "            print(e)\n",
    "    \n",
    "    isalpha(s)\n",
    "except Exception as e:\n",
    "        print(e)"
   ]
  },
  {
   "cell_type": "code",
   "execution_count": null,
   "id": "93571519",
   "metadata": {},
   "outputs": [],
   "source": []
  },
  {
   "cell_type": "markdown",
   "id": "3e65acc5",
   "metadata": {},
   "source": [
    "# isdigit()\n",
    "\n",
    "Return True if the string is a digit string, False otherwise"
   ]
  },
  {
   "cell_type": "code",
   "execution_count": 442,
   "id": "bb4a378f",
   "metadata": {},
   "outputs": [
    {
     "data": {
      "text/plain": [
       "False"
      ]
     },
     "execution_count": 442,
     "metadata": {},
     "output_type": "execute_result"
    }
   ],
   "source": [
    "s.isdigit()"
   ]
  },
  {
   "cell_type": "code",
   "execution_count": 443,
   "id": "19ed3f96",
   "metadata": {},
   "outputs": [
    {
     "name": "stdout",
     "output_type": "stream",
     "text": [
      "False\n"
     ]
    }
   ],
   "source": [
    "def isdigit(name):\n",
    "    try:\n",
    "        print(s.isdigit())\n",
    "    except Exception as e:\n",
    "        print(e)\n",
    "isdigit(s) "
   ]
  },
  {
   "cell_type": "code",
   "execution_count": 444,
   "id": "9831a1d6",
   "metadata": {},
   "outputs": [
    {
     "name": "stdout",
     "output_type": "stream",
     "text": [
      "False\n"
     ]
    }
   ],
   "source": [
    "try:\n",
    "    def isdigit(name):\n",
    "        try:\n",
    "            print(s.isdigit())\n",
    "        except Exception as e:\n",
    "            print(e)\n",
    "    isdigit(s)\n",
    "except Exception as e:\n",
    "        print(e)"
   ]
  },
  {
   "cell_type": "code",
   "execution_count": null,
   "id": "24a42939",
   "metadata": {},
   "outputs": [],
   "source": []
  },
  {
   "cell_type": "markdown",
   "id": "a40a17a3",
   "metadata": {},
   "source": [
    "# isspace()\n",
    "\n",
    "Return True if the string is a whitespace string, False otherwise.\n"
   ]
  },
  {
   "cell_type": "code",
   "execution_count": 445,
   "id": "5ac2ae15",
   "metadata": {},
   "outputs": [],
   "source": [
    "s =  '  1   '"
   ]
  },
  {
   "cell_type": "code",
   "execution_count": 446,
   "id": "1514a8c0",
   "metadata": {},
   "outputs": [
    {
     "data": {
      "text/plain": [
       "False"
      ]
     },
     "execution_count": 446,
     "metadata": {},
     "output_type": "execute_result"
    }
   ],
   "source": [
    "s.isspace()"
   ]
  },
  {
   "cell_type": "code",
   "execution_count": 447,
   "id": "ca6a4e36",
   "metadata": {},
   "outputs": [
    {
     "name": "stdout",
     "output_type": "stream",
     "text": [
      "False\n"
     ]
    }
   ],
   "source": [
    "def isspace(name):\n",
    "    try:\n",
    "        print(s.isspace())\n",
    "    except Exception as e:\n",
    "        print(e)\n",
    "isspace(s) "
   ]
  },
  {
   "cell_type": "code",
   "execution_count": 448,
   "id": "d9df0632",
   "metadata": {},
   "outputs": [
    {
     "name": "stdout",
     "output_type": "stream",
     "text": [
      "False\n"
     ]
    }
   ],
   "source": [
    "try:\n",
    "    def isspace(name):\n",
    "        try:\n",
    "            print(s.isspace())\n",
    "        except Exception as e:\n",
    "            print(e)\n",
    "    isspace(s)\n",
    "except Exception as e:\n",
    "        print(e)"
   ]
  },
  {
   "cell_type": "code",
   "execution_count": null,
   "id": "5332c53f",
   "metadata": {},
   "outputs": [],
   "source": []
  },
  {
   "cell_type": "markdown",
   "id": "52ff8cb9",
   "metadata": {},
   "source": [
    "# startswith()\n",
    "\n",
    "Return True if obj starts with the specified prefix, False otherwise."
   ]
  },
  {
   "cell_type": "code",
   "execution_count": 449,
   "id": "6df9750f",
   "metadata": {},
   "outputs": [],
   "source": [
    "s = \"shubhu\""
   ]
  },
  {
   "cell_type": "code",
   "execution_count": 450,
   "id": "0438398a",
   "metadata": {},
   "outputs": [
    {
     "data": {
      "text/plain": [
       "True"
      ]
     },
     "execution_count": 450,
     "metadata": {},
     "output_type": "execute_result"
    }
   ],
   "source": [
    "s.startswith(\"s\")"
   ]
  },
  {
   "cell_type": "code",
   "execution_count": 451,
   "id": "86d44106",
   "metadata": {},
   "outputs": [
    {
     "name": "stdout",
     "output_type": "stream",
     "text": [
      "True\n"
     ]
    }
   ],
   "source": [
    "def startswith(name):\n",
    "    try:\n",
    "        print(s.startswith(\"s\"))\n",
    "    except Exception as e:\n",
    "        print(e)\n",
    "startswith(s)"
   ]
  },
  {
   "cell_type": "code",
   "execution_count": 452,
   "id": "a7f886f8",
   "metadata": {},
   "outputs": [
    {
     "name": "stdout",
     "output_type": "stream",
     "text": [
      "True\n"
     ]
    }
   ],
   "source": [
    "try:\n",
    "    def startswith(name):\n",
    "        try:\n",
    "            print(s.startswith(\"s\"))\n",
    "        except Exception as e:\n",
    "            print(e)\n",
    "    startswith(s)\n",
    "except Exception as e:\n",
    "        print(e)"
   ]
  },
  {
   "cell_type": "code",
   "execution_count": null,
   "id": "2f7367c4",
   "metadata": {},
   "outputs": [],
   "source": []
  },
  {
   "cell_type": "markdown",
   "id": "0336cc94",
   "metadata": {},
   "source": [
    "# endswith()\n",
    "\n",
    "Return True if obj ends with the specified suffix, False otherwise."
   ]
  },
  {
   "cell_type": "code",
   "execution_count": 453,
   "id": "212dd96d",
   "metadata": {},
   "outputs": [
    {
     "data": {
      "text/plain": [
       "False"
      ]
     },
     "execution_count": 453,
     "metadata": {},
     "output_type": "execute_result"
    }
   ],
   "source": [
    "s.endswith('s')"
   ]
  },
  {
   "cell_type": "code",
   "execution_count": 454,
   "id": "fafb6e26",
   "metadata": {},
   "outputs": [
    {
     "name": "stdout",
     "output_type": "stream",
     "text": [
      "False\n"
     ]
    }
   ],
   "source": [
    "def endswith(name):\n",
    "    try:\n",
    "        print(s.endswith('s'))\n",
    "    except Exception as e:\n",
    "        print(e)\n",
    "endswith(s) "
   ]
  },
  {
   "cell_type": "code",
   "execution_count": 455,
   "id": "149921cf",
   "metadata": {},
   "outputs": [
    {
     "name": "stdout",
     "output_type": "stream",
     "text": [
      "False\n"
     ]
    }
   ],
   "source": [
    "try:\n",
    "    def endswith(name):\n",
    "        try:\n",
    "            print(s.endswith('s'))\n",
    "        except Exception as e:\n",
    "            print(e)\n",
    "    endswith(s)\n",
    "except Exception as e:\n",
    "        print(e)\n"
   ]
  },
  {
   "cell_type": "markdown",
   "id": "44aece8c",
   "metadata": {},
   "source": [
    "# isnumeric()\n",
    "\n",
    "Return True if the string is a numeric string, False otherwise."
   ]
  },
  {
   "cell_type": "code",
   "execution_count": 456,
   "id": "1bae97e6",
   "metadata": {},
   "outputs": [
    {
     "data": {
      "text/plain": [
       "False"
      ]
     },
     "execution_count": 456,
     "metadata": {},
     "output_type": "execute_result"
    }
   ],
   "source": [
    "s.isnumeric()"
   ]
  },
  {
   "cell_type": "code",
   "execution_count": 457,
   "id": "ab42f950",
   "metadata": {},
   "outputs": [
    {
     "name": "stdout",
     "output_type": "stream",
     "text": [
      "False\n"
     ]
    }
   ],
   "source": [
    "def numeric(name):\n",
    "    try:\n",
    "        print(s.isnumeric())\n",
    "    except Exception as e:\n",
    "        print(e)\n",
    "numeric(s) "
   ]
  },
  {
   "cell_type": "code",
   "execution_count": 458,
   "id": "d440d877",
   "metadata": {},
   "outputs": [
    {
     "name": "stdout",
     "output_type": "stream",
     "text": [
      "False\n"
     ]
    }
   ],
   "source": [
    "try:\n",
    "    def numeric(name):\n",
    "        try:\n",
    "            print(s.isnumeric())\n",
    "        except Exception as e:\n",
    "            print(e)\n",
    "\n",
    "    numeric(s)       \n",
    "except Exception as e:\n",
    "    print(e)"
   ]
  }
 ],
 "metadata": {
  "kernelspec": {
   "display_name": "Python 3 (ipykernel)",
   "language": "python",
   "name": "python3"
  },
  "language_info": {
   "codemirror_mode": {
    "name": "ipython",
    "version": 3
   },
   "file_extension": ".py",
   "mimetype": "text/x-python",
   "name": "python",
   "nbconvert_exporter": "python",
   "pygments_lexer": "ipython3",
   "version": "3.9.12"
  }
 },
 "nbformat": 4,
 "nbformat_minor": 5
}
